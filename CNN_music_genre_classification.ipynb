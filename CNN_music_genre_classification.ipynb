{
  "nbformat": 4,
  "nbformat_minor": 0,
  "metadata": {
    "colab": {
      "name": "CNN-music-genre-classification",
      "provenance": [],
      "collapsed_sections": [],
      "include_colab_link": true
    },
    "kernelspec": {
      "name": "python3",
      "display_name": "Python 3"
    },
    "accelerator": "GPU"
  },
  "cells": [
    {
      "cell_type": "markdown",
      "metadata": {
        "id": "view-in-github",
        "colab_type": "text"
      },
      "source": [
        "<a href=\"https://colab.research.google.com/github/DericsonPablo/Music-Genre-Classification/blob/master/CNN_music_genre_classification.ipynb\" target=\"_parent\"><img src=\"https://colab.research.google.com/assets/colab-badge.svg\" alt=\"Open In Colab\"/></a>"
      ]
    },
    {
      "cell_type": "code",
      "metadata": {
        "id": "AU_lz5JwQi88",
        "colab_type": "code",
        "outputId": "8c28a608-e316-428e-d196-6a523d8e13ee",
        "colab": {
          "base_uri": "https://localhost:8080/",
          "height": 122
        }
      },
      "source": [
        "from google.colab import drive\n",
        "drive.mount('/content/drive')"
      ],
      "execution_count": 0,
      "outputs": [
        {
          "output_type": "stream",
          "text": [
            "Go to this URL in a browser: https://accounts.google.com/o/oauth2/auth?client_id=947318989803-6bn6qk8qdgf4n4g3pfee6491hc0brc4i.apps.googleusercontent.com&redirect_uri=urn%3aietf%3awg%3aoauth%3a2.0%3aoob&response_type=code&scope=email%20https%3a%2f%2fwww.googleapis.com%2fauth%2fdocs.test%20https%3a%2f%2fwww.googleapis.com%2fauth%2fdrive%20https%3a%2f%2fwww.googleapis.com%2fauth%2fdrive.photos.readonly%20https%3a%2f%2fwww.googleapis.com%2fauth%2fpeopleapi.readonly\n",
            "\n",
            "Enter your authorization code:\n",
            "··········\n",
            "Mounted at /content/drive\n"
          ],
          "name": "stdout"
        }
      ]
    },
    {
      "cell_type": "code",
      "metadata": {
        "id": "MP8U4lX-QAq3",
        "colab_type": "code",
        "outputId": "862e52b5-b14a-4560-d629-b6b07b88a6a0",
        "colab": {
          "base_uri": "https://localhost:8080/",
          "height": 80
        }
      },
      "source": [
        "import warnings\n",
        "warnings.filterwarnings(\"ignore\", category = FutureWarning)\n",
        "\n",
        "import os\n",
        "import keras\n",
        "import h5py\n",
        "import librosa\n",
        "import itertools\n",
        "import numpy as np\n",
        "import matplotlib.pyplot as plt\n",
        "from collections import OrderedDict\n",
        "\n",
        "from keras.utils import to_categorical\n",
        "from sklearn.model_selection import train_test_split\n",
        "from sklearn.metrics import confusion_matrix\n",
        "\n",
        "from keras.models import Sequential\n",
        "from keras.layers import Dense\n",
        "from keras.layers import Activation\n",
        "from keras.layers import Conv2D\n",
        "from keras.layers import MaxPooling2D\n",
        "from keras.layers import Dropout\n",
        "from keras.layers import Flatten\n",
        "from keras.layers import BatchNormalization"
      ],
      "execution_count": 0,
      "outputs": [
        {
          "output_type": "stream",
          "text": [
            "Using TensorFlow backend.\n"
          ],
          "name": "stderr"
        },
        {
          "output_type": "display_data",
          "data": {
            "text/html": [
              "<p style=\"color: red;\">\n",
              "The default version of TensorFlow in Colab will soon switch to TensorFlow 2.x.<br>\n",
              "We recommend you <a href=\"https://www.tensorflow.org/guide/migrate\" target=\"_blank\">upgrade</a> now \n",
              "or ensure your notebook will continue to use TensorFlow 1.x via the <code>%tensorflow_version 1.x</code> magic:\n",
              "<a href=\"https://colab.research.google.com/notebooks/tensorflow_version.ipynb\" target=\"_blank\">more info</a>.</p>\n"
            ],
            "text/plain": [
              "<IPython.core.display.HTML object>"
            ]
          },
          "metadata": {
            "tags": []
          }
        }
      ]
    },
    {
      "cell_type": "code",
      "metadata": {
        "id": "-gv1u16rQNiN",
        "colab_type": "code",
        "colab": {}
      },
      "source": [
        "def splitsongs(X, y, window = 0.1, overlap = 0.5):\n",
        "    # Empty lists to hold our results\n",
        "    temp_X = []\n",
        "    temp_y = []\n",
        "\n",
        "    # Get the input song array size\n",
        "    xshape = X.shape[0]\n",
        "    chunk = int(xshape*window)\n",
        "    offset = int(chunk*(1.-overlap))\n",
        "    \n",
        "    # Split the song and create new ones on windows\n",
        "    spsong = [X[i:i+chunk] for i in range(0, xshape - chunk + offset, offset)]\n",
        "    for s in spsong:\n",
        "        temp_X.append(s)\n",
        "        temp_y.append(y)\n",
        "\n",
        "    return np.array(temp_X), np.array(temp_y)"
      ],
      "execution_count": 0,
      "outputs": []
    },
    {
      "cell_type": "code",
      "metadata": {
        "id": "7G8H_vG8QVJ4",
        "colab_type": "code",
        "colab": {}
      },
      "source": [
        "def to_melspectrogram(songs, n_fft = 1024, hop_length = 512):\n",
        "    # Transformation function\n",
        "    melspec = lambda x: librosa.feature.melspectrogram(x, n_fft = n_fft,\n",
        "        hop_length = hop_length)[:,:,np.newaxis]\n",
        "\n",
        "    # map transformation of input songs to melspectrogram using log-scale\n",
        "    tsongs = map(melspec, songs)\n",
        "    return np.array(list(tsongs))"
      ],
      "execution_count": 0,
      "outputs": []
    },
    {
      "cell_type": "code",
      "metadata": {
        "id": "0NrfCseZQV0a",
        "colab_type": "code",
        "colab": {}
      },
      "source": [
        "def read_data(src_dir, genres, song_samples, spec_format, debug = True):    \n",
        "    # Empty array of dicts with the processed features from all files\n",
        "    arr_specs = []\n",
        "    arr_genres = []\n",
        "\n",
        "    # Read files from the folders\n",
        "    for x,_ in genres.items():\n",
        "        folder = src_dir + x\n",
        "        print (folder)\n",
        "        for root, subdirs, files in os.walk(folder):\n",
        "            for file in files:\n",
        "                # Read the audio file\n",
        "                file_name = folder + \"/\" + file\n",
        "                signal, sr = librosa.load(file_name)\n",
        "                signal = signal[:song_samples]\n",
        "                \n",
        "                # Debug process\n",
        "                if debug:\n",
        "                    print(\"Reading file: {}\".format(file_name))\n",
        "                \n",
        "                # Convert to dataset of spectograms/melspectograms\n",
        "                signals, y = splitsongs(signal, genres[x])\n",
        "                \n",
        "                # Convert to \"spec\" representation\n",
        "                specs = spec_format(signals)\n",
        "                \n",
        "                # Save files\n",
        "                arr_genres.extend(y)\n",
        "                arr_specs.extend(specs)\n",
        "                \n",
        "                \n",
        "    return np.array(arr_specs), np.array(arr_genres)"
      ],
      "execution_count": 0,
      "outputs": []
    },
    {
      "cell_type": "code",
      "metadata": {
        "id": "j2rSzgr3QV5c",
        "colab_type": "code",
        "outputId": "e8bb56f7-7923-4c61-cd5c-4faa8a3d5a84",
        "colab": {
          "base_uri": "https://localhost:8080/",
          "height": 204
        }
      },
      "source": [
        "# Parameters\n",
        "gtzan_dir = '/content/drive/My Drive/GTZAN/genres/'\n",
        "song_samples = 660000\n",
        "genres = {'metal': 0, 'disco': 1, 'classical': 2, 'hiphop': 3, 'jazz': 4, \n",
        "          'country': 5, 'pop': 6, 'blues': 7, 'reggae': 8, 'rock': 9}\n",
        "\n",
        "# Read the data\n",
        "X, y = read_data(gtzan_dir, genres, song_samples, to_melspectrogram, debug=False)\n",
        "print(X.shape)"
      ],
      "execution_count": 0,
      "outputs": [
        {
          "output_type": "stream",
          "text": [
            "/content/drive/My Drive/GTZAN/genres/metal\n",
            "/content/drive/My Drive/GTZAN/genres/disco\n",
            "/content/drive/My Drive/GTZAN/genres/classical\n",
            "/content/drive/My Drive/GTZAN/genres/hiphop\n",
            "/content/drive/My Drive/GTZAN/genres/jazz\n",
            "/content/drive/My Drive/GTZAN/genres/country\n",
            "/content/drive/My Drive/GTZAN/genres/pop\n",
            "/content/drive/My Drive/GTZAN/genres/blues\n",
            "/content/drive/My Drive/GTZAN/genres/reggae\n",
            "/content/drive/My Drive/GTZAN/genres/rock\n",
            "(19000, 128, 129, 1)\n"
          ],
          "name": "stdout"
        }
      ]
    },
    {
      "cell_type": "code",
      "metadata": {
        "id": "qRMOX6EkQV8b",
        "colab_type": "code",
        "colab": {}
      },
      "source": [
        "np.save('x_gtzan_npy.npy', X)\n",
        "np.save('y_gtzan_npy.npy', y)"
      ],
      "execution_count": 0,
      "outputs": []
    },
    {
      "cell_type": "code",
      "metadata": {
        "id": "yxicgvWtQV-_",
        "colab_type": "code",
        "colab": {}
      },
      "source": [
        "y = to_categorical(y)"
      ],
      "execution_count": 0,
      "outputs": []
    },
    {
      "cell_type": "code",
      "metadata": {
        "id": "aQgB9JjsQWEw",
        "colab_type": "code",
        "colab": {}
      },
      "source": [
        "X_train, X_test, y_train, y_test = train_test_split(X, y, test_size=0.3, random_state=42, stratify = y)"
      ],
      "execution_count": 0,
      "outputs": []
    },
    {
      "cell_type": "code",
      "metadata": {
        "id": "Mo3hMdogQWHb",
        "colab_type": "code",
        "outputId": "0f888d77-b905-4a28-ff21-b061009e0137",
        "colab": {
          "base_uri": "https://localhost:8080/",
          "height": 34
        }
      },
      "source": [
        "print(X_train.shape, X_test.shape, y_train.shape, y_test.shape)"
      ],
      "execution_count": 0,
      "outputs": [
        {
          "output_type": "stream",
          "text": [
            "(13300, 128, 129, 1) (5700, 128, 129, 1) (13300, 10) (5700, 10)\n"
          ],
          "name": "stdout"
        }
      ]
    },
    {
      "cell_type": "code",
      "metadata": {
        "id": "MYElQMWfQ1rB",
        "colab_type": "code",
        "outputId": "be7a8900-f69f-487b-e4f3-572d27258927",
        "colab": {
          "base_uri": "https://localhost:8080/",
          "height": 265
        }
      },
      "source": [
        "values, count = np.unique(np.argmax(y_train, axis=1), return_counts=True)\n",
        "plt.bar(values, count)\n",
        "\n",
        "values, count = np.unique(np.argmax(y_test, axis=1), return_counts=True)\n",
        "plt.bar(values, count)\n",
        "plt.show()"
      ],
      "execution_count": 0,
      "outputs": [
        {
          "output_type": "display_data",
          "data": {
            "image/png": "[encoded data removed]",
            "text/plain": [
              "<Figure size 432x288 with 1 Axes>"
            ]
          },
          "metadata": {
            "tags": []
          }
        }
      ]
    },
    {
      "cell_type": "code",
      "metadata": {
        "id": "TplyvcwkQ1xc",
        "colab_type": "code",
        "outputId": "bc1c45a0-e6c4-4688-bf52-538701d7aac6",
        "colab": {
          "base_uri": "https://localhost:8080/",
          "height": 972
        }
      },
      "source": [
        "# Model Definition\n",
        "input_shape = X_train[0].shape\n",
        "num_genres = 10\n",
        "\n",
        "model = Sequential()\n",
        "# Conv Block 1\n",
        "model.add(Conv2D(16, kernel_size=(3, 3), strides=(1, 1),\n",
        "                 activation='relu', input_shape=input_shape))\n",
        "model.add(MaxPooling2D(pool_size=(2, 2), strides=(2, 2)))\n",
        "model.add(Dropout(0.25))\n",
        "\n",
        "# Conv Block 2\n",
        "model.add(Conv2D(32, (3, 3), strides=(1, 1), activation='relu'))\n",
        "model.add(MaxPooling2D(pool_size=(2, 2), strides=(2, 2)))\n",
        "model.add(Dropout(0.25))\n",
        "\n",
        "# Conv Block 3\n",
        "model.add(Conv2D(64, (3, 3), strides=(1, 1), activation='relu'))\n",
        "model.add(MaxPooling2D(pool_size=(2, 2), strides=(2, 2)))\n",
        "model.add(Dropout(0.25))\n",
        "\n",
        "# Conv Block 4\n",
        "model.add(Conv2D(128, (3, 3), strides=(1, 1), activation='relu'))\n",
        "model.add(MaxPooling2D(pool_size=(2, 2), strides=(2, 2)))\n",
        "model.add(Dropout(0.25))\n",
        "\n",
        "# Conv Block 5\n",
        "model.add(Conv2D(64, (3, 3), strides=(1, 1), activation='relu'))\n",
        "model.add(MaxPooling2D(pool_size=(4, 4), strides=(4, 4)))\n",
        "model.add(Dropout(0.25))\n",
        "\n",
        "# MLP\n",
        "model.add(Flatten())\n",
        "model.add(Dense(num_genres, activation='softmax'))\n",
        "\n",
        "model.summary()"
      ],
      "execution_count": 0,
      "outputs": [
        {
          "output_type": "stream",
          "text": [
            "WARNING:tensorflow:From /usr/local/lib/python3.6/dist-packages/keras/backend/tensorflow_backend.py:66: The name tf.get_default_graph is deprecated. Please use tf.compat.v1.get_default_graph instead.\n",
            "\n",
            "WARNING:tensorflow:From /usr/local/lib/python3.6/dist-packages/keras/backend/tensorflow_backend.py:541: The name tf.placeholder is deprecated. Please use tf.compat.v1.placeholder instead.\n",
            "\n",
            "WARNING:tensorflow:From /usr/local/lib/python3.6/dist-packages/keras/backend/tensorflow_backend.py:4432: The name tf.random_uniform is deprecated. Please use tf.random.uniform instead.\n",
            "\n",
            "WARNING:tensorflow:From /usr/local/lib/python3.6/dist-packages/keras/backend/tensorflow_backend.py:4267: The name tf.nn.max_pool is deprecated. Please use tf.nn.max_pool2d instead.\n",
            "\n",
            "WARNING:tensorflow:From /usr/local/lib/python3.6/dist-packages/keras/backend/tensorflow_backend.py:148: The name tf.placeholder_with_default is deprecated. Please use tf.compat.v1.placeholder_with_default instead.\n",
            "\n",
            "WARNING:tensorflow:From /usr/local/lib/python3.6/dist-packages/keras/backend/tensorflow_backend.py:3733: calling dropout (from tensorflow.python.ops.nn_ops) with keep_prob is deprecated and will be removed in a future version.\n",
            "Instructions for updating:\n",
            "Please use `rate` instead of `keep_prob`. Rate should be set to `rate = 1 - keep_prob`.\n",
            "Model: \"sequential_1\"\n",
            "_________________________________________________________________\n",
            "Layer (type)                 Output Shape              Param #   \n",
            "=================================================================\n",
            "conv2d_1 (Conv2D)            (None, 126, 127, 16)      160       \n",
            "_________________________________________________________________\n",
            "max_pooling2d_1 (MaxPooling2 (None, 63, 63, 16)        0         \n",
            "_________________________________________________________________\n",
            "dropout_1 (Dropout)          (None, 63, 63, 16)        0         \n",
            "_________________________________________________________________\n",
            "conv2d_2 (Conv2D)            (None, 61, 61, 32)        4640      \n",
            "_________________________________________________________________\n",
            "max_pooling2d_2 (MaxPooling2 (None, 30, 30, 32)        0         \n",
            "_________________________________________________________________\n",
            "dropout_2 (Dropout)          (None, 30, 30, 32)        0         \n",
            "_________________________________________________________________\n",
            "conv2d_3 (Conv2D)            (None, 28, 28, 64)        18496     \n",
            "_________________________________________________________________\n",
            "max_pooling2d_3 (MaxPooling2 (None, 14, 14, 64)        0         \n",
            "_________________________________________________________________\n",
            "dropout_3 (Dropout)          (None, 14, 14, 64)        0         \n",
            "_________________________________________________________________\n",
            "conv2d_4 (Conv2D)            (None, 12, 12, 128)       73856     \n",
            "_________________________________________________________________\n",
            "max_pooling2d_4 (MaxPooling2 (None, 6, 6, 128)         0         \n",
            "_________________________________________________________________\n",
            "dropout_4 (Dropout)          (None, 6, 6, 128)         0         \n",
            "_________________________________________________________________\n",
            "conv2d_5 (Conv2D)            (None, 4, 4, 64)          73792     \n",
            "_________________________________________________________________\n",
            "max_pooling2d_5 (MaxPooling2 (None, 1, 1, 64)          0         \n",
            "_________________________________________________________________\n",
            "dropout_5 (Dropout)          (None, 1, 1, 64)          0         \n",
            "_________________________________________________________________\n",
            "flatten_1 (Flatten)          (None, 64)                0         \n",
            "_________________________________________________________________\n",
            "dense_1 (Dense)              (None, 10)                650       \n",
            "=================================================================\n",
            "Total params: 171,594\n",
            "Trainable params: 171,594\n",
            "Non-trainable params: 0\n",
            "_________________________________________________________________\n"
          ],
          "name": "stdout"
        }
      ]
    },
    {
      "cell_type": "code",
      "metadata": {
        "id": "69O-T9xPQ14s",
        "colab_type": "code",
        "outputId": "d94d3425-8fd6-4a7d-9ac4-196253b7631c",
        "colab": {
          "base_uri": "https://localhost:8080/",
          "height": 1000
        }
      },
      "source": [
        "model.compile(loss=keras.losses.categorical_crossentropy,\n",
        "              optimizer=keras.optimizers.Adam(),\n",
        "              metrics=['accuracy'])\n",
        "\n",
        "hist = model.fit(X_train, y_train,\n",
        "          batch_size=32,\n",
        "          epochs=50,\n",
        "          verbose=1,\n",
        "          validation_data=(X_test, y_test))"
      ],
      "execution_count": 0,
      "outputs": [
        {
          "output_type": "stream",
          "text": [
            "WARNING:tensorflow:From /usr/local/lib/python3.6/dist-packages/keras/optimizers.py:793: The name tf.train.Optimizer is deprecated. Please use tf.compat.v1.train.Optimizer instead.\n",
            "\n",
            "WARNING:tensorflow:From /usr/local/lib/python3.6/dist-packages/keras/backend/tensorflow_backend.py:3576: The name tf.log is deprecated. Please use tf.math.log instead.\n",
            "\n",
            "WARNING:tensorflow:From /usr/local/lib/python3.6/dist-packages/tensorflow_core/python/ops/math_grad.py:1424: where (from tensorflow.python.ops.array_ops) is deprecated and will be removed in a future version.\n",
            "Instructions for updating:\n",
            "Use tf.where in 2.0, which has the same broadcast rule as np.where\n",
            "WARNING:tensorflow:From /usr/local/lib/python3.6/dist-packages/keras/backend/tensorflow_backend.py:1033: The name tf.assign_add is deprecated. Please use tf.compat.v1.assign_add instead.\n",
            "\n",
            "WARNING:tensorflow:From /usr/local/lib/python3.6/dist-packages/keras/backend/tensorflow_backend.py:1020: The name tf.assign is deprecated. Please use tf.compat.v1.assign instead.\n",
            "\n",
            "WARNING:tensorflow:From /usr/local/lib/python3.6/dist-packages/keras/backend/tensorflow_backend.py:3005: The name tf.Session is deprecated. Please use tf.compat.v1.Session instead.\n",
            "\n",
            "Train on 13300 samples, validate on 5700 samples\n",
            "Epoch 1/50\n",
            "WARNING:tensorflow:From /usr/local/lib/python3.6/dist-packages/keras/backend/tensorflow_backend.py:190: The name tf.get_default_session is deprecated. Please use tf.compat.v1.get_default_session instead.\n",
            "\n",
            "WARNING:tensorflow:From /usr/local/lib/python3.6/dist-packages/keras/backend/tensorflow_backend.py:197: The name tf.ConfigProto is deprecated. Please use tf.compat.v1.ConfigProto instead.\n",
            "\n",
            "WARNING:tensorflow:From /usr/local/lib/python3.6/dist-packages/keras/backend/tensorflow_backend.py:207: The name tf.global_variables is deprecated. Please use tf.compat.v1.global_variables instead.\n",
            "\n",
            "WARNING:tensorflow:From /usr/local/lib/python3.6/dist-packages/keras/backend/tensorflow_backend.py:216: The name tf.is_variable_initialized is deprecated. Please use tf.compat.v1.is_variable_initialized instead.\n",
            "\n",
            "WARNING:tensorflow:From /usr/local/lib/python3.6/dist-packages/keras/backend/tensorflow_backend.py:223: The name tf.variables_initializer is deprecated. Please use tf.compat.v1.variables_initializer instead.\n",
            "\n",
            "13300/13300 [==============================] - 14s 1ms/step - loss: 2.1079 - acc: 0.2505 - val_loss: 1.7638 - val_acc: 0.3846\n",
            "Epoch 2/50\n",
            "13300/13300 [==============================] - 6s 460us/step - loss: 1.6603 - acc: 0.4098 - val_loss: 1.4785 - val_acc: 0.5161\n",
            "Epoch 3/50\n",
            "13300/13300 [==============================] - 6s 461us/step - loss: 1.4867 - acc: 0.4766 - val_loss: 1.4006 - val_acc: 0.4982\n",
            "Epoch 4/50\n",
            "13300/13300 [==============================] - 6s 462us/step - loss: 1.3603 - acc: 0.5211 - val_loss: 1.3234 - val_acc: 0.5465\n",
            "Epoch 5/50\n",
            "13300/13300 [==============================] - 6s 462us/step - loss: 1.2908 - acc: 0.5494 - val_loss: 1.2085 - val_acc: 0.5840\n",
            "Epoch 6/50\n",
            "13300/13300 [==============================] - 6s 458us/step - loss: 1.2270 - acc: 0.5757 - val_loss: 1.1486 - val_acc: 0.6146\n",
            "Epoch 7/50\n",
            "13300/13300 [==============================] - 6s 465us/step - loss: 1.1656 - acc: 0.5977 - val_loss: 1.0779 - val_acc: 0.6505\n",
            "Epoch 8/50\n",
            "13300/13300 [==============================] - 6s 469us/step - loss: 1.0952 - acc: 0.6225 - val_loss: 1.0426 - val_acc: 0.6411\n",
            "Epoch 9/50\n",
            "13300/13300 [==============================] - 6s 461us/step - loss: 1.0654 - acc: 0.6364 - val_loss: 1.0287 - val_acc: 0.6488\n",
            "Epoch 10/50\n",
            "13300/13300 [==============================] - 6s 460us/step - loss: 1.0078 - acc: 0.6588 - val_loss: 0.9341 - val_acc: 0.6870\n",
            "Epoch 11/50\n",
            "13300/13300 [==============================] - 6s 461us/step - loss: 0.9707 - acc: 0.6710 - val_loss: 0.9079 - val_acc: 0.7032\n",
            "Epoch 12/50\n",
            "13300/13300 [==============================] - 6s 461us/step - loss: 0.9389 - acc: 0.6838 - val_loss: 0.8431 - val_acc: 0.7156\n",
            "Epoch 13/50\n",
            "13300/13300 [==============================] - 6s 468us/step - loss: 0.9053 - acc: 0.6993 - val_loss: 0.8130 - val_acc: 0.7374\n",
            "Epoch 14/50\n",
            "13300/13300 [==============================] - 6s 472us/step - loss: 0.8717 - acc: 0.7129 - val_loss: 0.7640 - val_acc: 0.7454\n",
            "Epoch 15/50\n",
            "13300/13300 [==============================] - 6s 462us/step - loss: 0.8429 - acc: 0.7198 - val_loss: 0.7739 - val_acc: 0.7477\n",
            "Epoch 16/50\n",
            "13300/13300 [==============================] - 6s 460us/step - loss: 0.8247 - acc: 0.7214 - val_loss: 0.7911 - val_acc: 0.7339\n",
            "Epoch 17/50\n",
            "13300/13300 [==============================] - 6s 463us/step - loss: 0.7886 - acc: 0.7348 - val_loss: 0.7124 - val_acc: 0.7661\n",
            "Epoch 18/50\n",
            "13300/13300 [==============================] - 6s 465us/step - loss: 0.7720 - acc: 0.7398 - val_loss: 0.7263 - val_acc: 0.7691\n",
            "Epoch 19/50\n",
            "13300/13300 [==============================] - 6s 466us/step - loss: 0.7668 - acc: 0.7443 - val_loss: 0.6823 - val_acc: 0.7863\n",
            "Epoch 20/50\n",
            "13300/13300 [==============================] - 6s 468us/step - loss: 0.7404 - acc: 0.7511 - val_loss: 0.6527 - val_acc: 0.7882\n",
            "Epoch 21/50\n",
            "13300/13300 [==============================] - 6s 456us/step - loss: 0.7241 - acc: 0.7538 - val_loss: 0.6293 - val_acc: 0.7970\n",
            "Epoch 22/50\n",
            "13300/13300 [==============================] - 6s 463us/step - loss: 0.7134 - acc: 0.7614 - val_loss: 0.6001 - val_acc: 0.8060\n",
            "Epoch 23/50\n",
            "13300/13300 [==============================] - 6s 461us/step - loss: 0.6949 - acc: 0.7647 - val_loss: 0.6802 - val_acc: 0.7693\n",
            "Epoch 24/50\n",
            "13300/13300 [==============================] - 6s 464us/step - loss: 0.6874 - acc: 0.7707 - val_loss: 0.6119 - val_acc: 0.8028\n",
            "Epoch 25/50\n",
            "13300/13300 [==============================] - 6s 471us/step - loss: 0.6704 - acc: 0.7728 - val_loss: 0.6168 - val_acc: 0.7988\n",
            "Epoch 26/50\n",
            "13300/13300 [==============================] - 6s 481us/step - loss: 0.6613 - acc: 0.7754 - val_loss: 0.5875 - val_acc: 0.8095\n",
            "Epoch 27/50\n",
            "13300/13300 [==============================] - 6s 474us/step - loss: 0.6414 - acc: 0.7864 - val_loss: 0.6097 - val_acc: 0.7926\n",
            "Epoch 28/50\n",
            "13300/13300 [==============================] - 6s 458us/step - loss: 0.6225 - acc: 0.7968 - val_loss: 0.5967 - val_acc: 0.8054\n",
            "Epoch 29/50\n",
            "13300/13300 [==============================] - 6s 461us/step - loss: 0.6261 - acc: 0.7895 - val_loss: 0.6033 - val_acc: 0.8025\n",
            "Epoch 30/50\n",
            "13300/13300 [==============================] - 6s 461us/step - loss: 0.6265 - acc: 0.7921 - val_loss: 0.5667 - val_acc: 0.8214\n",
            "Epoch 31/50\n",
            "13300/13300 [==============================] - 6s 459us/step - loss: 0.6100 - acc: 0.7944 - val_loss: 0.5668 - val_acc: 0.8198\n",
            "Epoch 32/50\n",
            "13300/13300 [==============================] - 6s 457us/step - loss: 0.6096 - acc: 0.7956 - val_loss: 0.5845 - val_acc: 0.8070\n",
            "Epoch 33/50\n",
            "13300/13300 [==============================] - 6s 459us/step - loss: 0.5962 - acc: 0.8028 - val_loss: 0.5775 - val_acc: 0.8082\n",
            "Epoch 34/50\n",
            "13300/13300 [==============================] - 6s 463us/step - loss: 0.5957 - acc: 0.8003 - val_loss: 0.5709 - val_acc: 0.8096\n",
            "Epoch 35/50\n",
            "13300/13300 [==============================] - 6s 456us/step - loss: 0.5793 - acc: 0.8071 - val_loss: 0.5579 - val_acc: 0.8100\n",
            "Epoch 36/50\n",
            "13300/13300 [==============================] - 6s 461us/step - loss: 0.5823 - acc: 0.8033 - val_loss: 0.5242 - val_acc: 0.8318\n",
            "Epoch 37/50\n",
            "13300/13300 [==============================] - 6s 458us/step - loss: 0.5477 - acc: 0.8149 - val_loss: 0.5549 - val_acc: 0.8200\n",
            "Epoch 38/50\n",
            "13300/13300 [==============================] - 6s 460us/step - loss: 0.5598 - acc: 0.8156 - val_loss: 0.4973 - val_acc: 0.8386\n",
            "Epoch 39/50\n",
            "13300/13300 [==============================] - 6s 460us/step - loss: 0.5534 - acc: 0.8151 - val_loss: 0.5189 - val_acc: 0.8260\n",
            "Epoch 40/50\n",
            "13300/13300 [==============================] - 6s 466us/step - loss: 0.5528 - acc: 0.8153 - val_loss: 0.5458 - val_acc: 0.8284\n",
            "Epoch 41/50\n",
            "13300/13300 [==============================] - 6s 462us/step - loss: 0.5453 - acc: 0.8134 - val_loss: 0.5036 - val_acc: 0.8354\n",
            "Epoch 42/50\n",
            "13300/13300 [==============================] - 6s 458us/step - loss: 0.5333 - acc: 0.8235 - val_loss: 0.5420 - val_acc: 0.8182\n",
            "Epoch 43/50\n",
            "13300/13300 [==============================] - 6s 458us/step - loss: 0.5439 - acc: 0.8181 - val_loss: 0.5230 - val_acc: 0.8228\n",
            "Epoch 44/50\n",
            "13300/13300 [==============================] - 6s 460us/step - loss: 0.5261 - acc: 0.8238 - val_loss: 0.5647 - val_acc: 0.8098\n",
            "Epoch 45/50\n",
            "13300/13300 [==============================] - 6s 456us/step - loss: 0.5128 - acc: 0.8271 - val_loss: 0.5458 - val_acc: 0.8207\n",
            "Epoch 46/50\n",
            "13300/13300 [==============================] - 6s 454us/step - loss: 0.5106 - acc: 0.8326 - val_loss: 0.4677 - val_acc: 0.8467\n",
            "Epoch 47/50\n",
            "13300/13300 [==============================] - 6s 458us/step - loss: 0.5049 - acc: 0.8333 - val_loss: 0.4837 - val_acc: 0.8377\n",
            "Epoch 48/50\n",
            "13300/13300 [==============================] - 6s 462us/step - loss: 0.5157 - acc: 0.8283 - val_loss: 0.5178 - val_acc: 0.8226\n",
            "Epoch 49/50\n",
            "13300/13300 [==============================] - 6s 459us/step - loss: 0.5220 - acc: 0.8248 - val_loss: 0.5503 - val_acc: 0.8156\n",
            "Epoch 50/50\n",
            "13300/13300 [==============================] - 6s 459us/step - loss: 0.4941 - acc: 0.8329 - val_loss: 0.4738 - val_acc: 0.8489\n"
          ],
          "name": "stdout"
        }
      ]
    },
    {
      "cell_type": "code",
      "metadata": {
        "id": "xqq6eGfqQ18M",
        "colab_type": "code",
        "outputId": "1b69e68e-aeef-4e58-8219-515a7c8c89b9",
        "colab": {
          "base_uri": "https://localhost:8080/",
          "height": 34
        }
      },
      "source": [
        "score = model.evaluate(X_test, y_test, verbose=0)\n",
        "print(\"val_loss = {:.3f} and val_acc = {:.3f}\".format(score[0], score[1]))"
      ],
      "execution_count": 0,
      "outputs": [
        {
          "output_type": "stream",
          "text": [
            "val_loss = 0.474 and val_acc = 0.849\n"
          ],
          "name": "stdout"
        }
      ]
    },
    {
      "cell_type": "code",
      "metadata": {
        "id": "mEK419ADQ2EG",
        "colab_type": "code",
        "outputId": "f7bae1ac-b17a-45a0-ab20-c6d212f6fd1b",
        "colab": {
          "base_uri": "https://localhost:8080/",
          "height": 513
        }
      },
      "source": [
        "plt.figure(figsize=(15,7))\n",
        "\n",
        "plt.subplot(1,2,1)\n",
        "plt.plot(hist.history['acc'], label='train')\n",
        "plt.plot(hist.history['val_acc'], label='validation')\n",
        "plt.title('Accuracy')\n",
        "plt.xlabel('Epochs')\n",
        "plt.ylabel('Accuracy')\n",
        "plt.legend()\n",
        "\n",
        "plt.subplot(1,2,2)\n",
        "plt.plot(hist.history['loss'], label='train')\n",
        "plt.plot(hist.history['val_loss'], label='validation')\n",
        "plt.title('Loss')\n",
        "plt.xlabel('Epochs')\n",
        "plt.ylabel('Loss')\n",
        "plt.legend()\n",
        "\n",
        "plt.tight_layout()\n",
        "plt.show()"
      ],
      "execution_count": 0,
      "outputs": [
        {
          "output_type": "display_data",
          "data": {
            "image/png": "[encoded data removed]",
            "text/plain": [
              "<Figure size 1080x504 with 2 Axes>"
            ]
          },
          "metadata": {
            "tags": []
          }
        }
      ]
    },
    {
      "cell_type": "code",
      "metadata": {
        "id": "VCB9cWwuQ2Jh",
        "colab_type": "code",
        "colab": {}
      },
      "source": [
        "def plot_confusion_matrix(cm, classes,\n",
        "                          normalize=False,\n",
        "                          title='Confusion matrix',\n",
        "                          cmap=plt.cm.Blues):\n",
        "    \"\"\"\n",
        "    This function prints and plots the confusion matrix.\n",
        "    Normalization can be applied by setting `normalize=True`.\n",
        "    \"\"\"\n",
        "    if normalize:\n",
        "        cm = cm.astype('float') / cm.sum(axis=1)[:, np.newaxis]\n",
        "        print(\"Normalized confusion matrix\")\n",
        "    else:\n",
        "        print('Confusion matrix, without normalization')\n",
        "\n",
        "    plt.imshow(cm, interpolation='nearest', cmap=cmap)\n",
        "    plt.title(title)\n",
        "    plt.colorbar()\n",
        "    tick_marks = np.arange(len(classes))\n",
        "    plt.xticks(tick_marks, classes, rotation=45)\n",
        "    plt.yticks(tick_marks, classes)\n",
        "\n",
        "    fmt = '.2f' if normalize else 'd'\n",
        "    thresh = cm.max() / 2.\n",
        "    for i, j in itertools.product(range(cm.shape[0]), range(cm.shape[1])):\n",
        "        plt.text(j, i, format(cm[i, j], fmt),\n",
        "                 horizontalalignment=\"center\",\n",
        "                 color=\"white\" if cm[i, j] > thresh else \"black\")\n",
        "\n",
        "    plt.tight_layout()\n",
        "    plt.ylabel('True label')\n",
        "    plt.xlabel('Predicted label')"
      ],
      "execution_count": 0,
      "outputs": []
    },
    {
      "cell_type": "code",
      "metadata": {
        "id": "Y6M5IBI2Q2MS",
        "colab_type": "code",
        "colab": {}
      },
      "source": [
        "preds = np.argmax(model.predict(X_test), axis = 1)\n",
        "y_orig = np.argmax(y_test, axis = 1)\n",
        "cm = confusion_matrix(preds, y_orig)"
      ],
      "execution_count": 0,
      "outputs": []
    },
    {
      "cell_type": "code",
      "metadata": {
        "id": "FwLDuddqQ123",
        "colab_type": "code",
        "outputId": "f67d088c-de45-43fd-eff6-a6a800ee9930",
        "colab": {
          "base_uri": "https://localhost:8080/",
          "height": 602
        }
      },
      "source": [
        "keys = OrderedDict(sorted(genres.items(), key=lambda t: t[1])).keys()\n",
        "\n",
        "plt.figure(figsize=(8,8))\n",
        "plot_confusion_matrix(cm, keys, normalize=True)"
      ],
      "execution_count": 0,
      "outputs": [
        {
          "output_type": "stream",
          "text": [
            "Normalized confusion matrix\n"
          ],
          "name": "stdout"
        },
        {
          "output_type": "display_data",
          "data": {
            "image/png": "[encoded data removed]",
            "text/plain": [
              "<Figure size 576x576 with 2 Axes>"
            ]
          },
          "metadata": {
            "tags": []
          }
        }
      ]
    },
    {
      "cell_type": "code",
      "metadata": {
        "id": "xuA4BNTQQ100",
        "colab_type": "code",
        "colab": {}
      },
      "source": [
        ""
      ],
      "execution_count": 0,
      "outputs": []
    },
    {
      "cell_type": "code",
      "metadata": {
        "id": "nIvJ0JkVQ1vz",
        "colab_type": "code",
        "colab": {}
      },
      "source": [
        ""
      ],
      "execution_count": 0,
      "outputs": []
    },
    {
      "cell_type": "code",
      "metadata": {
        "id": "2C0i43XRQWDV",
        "colab_type": "code",
        "colab": {}
      },
      "source": [
        ""
      ],
      "execution_count": 0,
      "outputs": []
    }
  ]
}